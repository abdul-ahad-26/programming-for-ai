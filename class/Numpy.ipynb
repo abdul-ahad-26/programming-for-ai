{
 "cells": [
  {
   "cell_type": "code",
   "execution_count": 2,
   "metadata": {},
   "outputs": [
    {
     "name": "stdout",
     "output_type": "stream",
     "text": [
      "Requirement already satisfied: numpy in c:\\users\\abdul ahad\\appdata\\local\\programs\\python\\python313\\lib\\site-packages (2.2.4)\n"
     ]
    }
   ],
   "source": [
    "!pip install numpy"
   ]
  },
  {
   "cell_type": "code",
   "execution_count": 3,
   "metadata": {},
   "outputs": [],
   "source": [
    "import numpy as np"
   ]
  },
  {
   "cell_type": "markdown",
   "metadata": {},
   "source": [
    "# 1. Create"
   ]
  },
  {
   "cell_type": "code",
   "execution_count": 4,
   "metadata": {},
   "outputs": [
    {
     "data": {
      "text/plain": [
       "array([[[-1, -1],\n",
       "        [-1, -1]],\n",
       "\n",
       "       [[-1, -1],\n",
       "        [-1, -1]]])"
      ]
     },
     "execution_count": 4,
     "metadata": {},
     "output_type": "execute_result"
    }
   ],
   "source": [
    "data = np.random.rand(2,3,4)\n",
    "zeroes = np.zeros((2,2,2))\n",
    "full = np.full((2,2,2), -1)\n",
    "ones = np.ones((2,2,2))\n",
    "full"
   ]
  },
  {
   "cell_type": "code",
   "execution_count": 5,
   "metadata": {},
   "outputs": [
    {
     "data": {
      "text/plain": [
       "numpy.ndarray"
      ]
     },
     "execution_count": 5,
     "metadata": {},
     "output_type": "execute_result"
    }
   ],
   "source": [
    "type(ones)"
   ]
  },
  {
   "cell_type": "code",
   "execution_count": 6,
   "metadata": {},
   "outputs": [
    {
     "data": {
      "text/plain": [
       "array([[[0.72537542, 0.2396    , 0.00624761, 0.59862659],\n",
       "        [0.82409168, 0.03819772, 0.79670395, 0.0939198 ],\n",
       "        [0.91602224, 0.82140001, 0.91905594, 0.40314368]],\n",
       "\n",
       "       [[0.4829657 , 0.14379903, 0.24434039, 0.82191755],\n",
       "        [0.3874462 , 0.19203127, 0.20857411, 0.16842186],\n",
       "        [0.96708922, 0.16532174, 0.72065323, 0.67023551]]])"
      ]
     },
     "execution_count": 6,
     "metadata": {},
     "output_type": "execute_result"
    }
   ],
   "source": [
    "data"
   ]
  },
  {
   "cell_type": "code",
   "execution_count": 7,
   "metadata": {},
   "outputs": [
    {
     "data": {
      "text/plain": [
       "array([[[1., 1.],\n",
       "        [1., 1.]],\n",
       "\n",
       "       [[1., 1.],\n",
       "        [1., 1.]]])"
      ]
     },
     "execution_count": 7,
     "metadata": {},
     "output_type": "execute_result"
    }
   ],
   "source": [
    "ones"
   ]
  },
  {
   "cell_type": "code",
   "execution_count": 8,
   "metadata": {},
   "outputs": [
    {
     "data": {
      "text/plain": [
       "array([[[0., 0.],\n",
       "        [0., 0.]],\n",
       "\n",
       "       [[0., 0.],\n",
       "        [0., 0.]]])"
      ]
     },
     "execution_count": 8,
     "metadata": {},
     "output_type": "execute_result"
    }
   ],
   "source": [
    "zeroes"
   ]
  },
  {
   "cell_type": "code",
   "execution_count": 9,
   "metadata": {},
   "outputs": [
    {
     "data": {
      "text/plain": [
       "array([[[-1, -1],\n",
       "        [-1, -1]],\n",
       "\n",
       "       [[-1, -1],\n",
       "        [-1, -1]]])"
      ]
     },
     "execution_count": 9,
     "metadata": {},
     "output_type": "execute_result"
    }
   ],
   "source": [
    "full"
   ]
  },
  {
   "cell_type": "code",
   "execution_count": 10,
   "metadata": {},
   "outputs": [
    {
     "data": {
      "text/plain": [
       "array([[[1., 1.],\n",
       "        [1., 1.]],\n",
       "\n",
       "       [[1., 1.],\n",
       "        [1., 1.]]])"
      ]
     },
     "execution_count": 10,
     "metadata": {},
     "output_type": "execute_result"
    }
   ],
   "source": [
    "ones"
   ]
  },
  {
   "cell_type": "code",
   "execution_count": 11,
   "metadata": {},
   "outputs": [],
   "source": [
    "arr = np.array([[1,2],[1,2]])"
   ]
  },
  {
   "cell_type": "code",
   "execution_count": 12,
   "metadata": {},
   "outputs": [
    {
     "data": {
      "text/plain": [
       "numpy.ndarray"
      ]
     },
     "execution_count": 12,
     "metadata": {},
     "output_type": "execute_result"
    }
   ],
   "source": [
    "type(arr)"
   ]
  },
  {
   "cell_type": "code",
   "execution_count": 13,
   "metadata": {},
   "outputs": [
    {
     "data": {
      "text/plain": [
       "array([[1, 2],\n",
       "       [1, 2]])"
      ]
     },
     "execution_count": 13,
     "metadata": {},
     "output_type": "execute_result"
    }
   ],
   "source": [
    "arr"
   ]
  },
  {
   "cell_type": "markdown",
   "metadata": {},
   "source": [
    "# 2. Read"
   ]
  },
  {
   "cell_type": "code",
   "execution_count": 14,
   "metadata": {},
   "outputs": [],
   "source": [
    "# Attributes\n",
    "shape = data.shape\n",
    "size = data.size\n",
    "types = data.dtype"
   ]
  },
  {
   "cell_type": "code",
   "execution_count": 16,
   "metadata": {},
   "outputs": [
    {
     "data": {
      "text/plain": [
       "24"
      ]
     },
     "execution_count": 16,
     "metadata": {},
     "output_type": "execute_result"
    }
   ],
   "source": [
    "size"
   ]
  },
  {
   "cell_type": "code",
   "execution_count": 36,
   "metadata": {},
   "outputs": [],
   "source": [
    "# Slicing\n",
    "arr = data[1][1][3]\n",
    "slicer = data[0][2][0:2]\n",
    "reverse = data[-1][-3][0]\n",
    "singleval = data[0][0][0]"
   ]
  },
  {
   "cell_type": "code",
   "execution_count": 37,
   "metadata": {},
   "outputs": [
    {
     "data": {
      "text/plain": [
       "0.5321376525859042"
      ]
     },
     "execution_count": 37,
     "metadata": {},
     "output_type": "execute_result"
    }
   ],
   "source": [
    "reverse"
   ]
  },
  {
   "cell_type": "code",
   "execution_count": 39,
   "metadata": {},
   "outputs": [
    {
     "data": {
      "text/plain": [
       "array([[[0.72833212, 0.79963635, 0.95654337, 0.11745646],\n",
       "        [0.46217238, 0.20830138, 0.04354799, 0.41218107],\n",
       "        [0.09291454, 0.98260479, 0.85936967, 0.24624239]],\n",
       "\n",
       "       [[0.53213765, 0.06560753, 0.44020056, 0.21303124],\n",
       "        [0.51586371, 0.14366324, 0.79015415, 0.92238884],\n",
       "        [0.43189992, 0.52789158, 0.46113548, 0.86414634]]])"
      ]
     },
     "execution_count": 39,
     "metadata": {},
     "output_type": "execute_result"
    }
   ],
   "source": [
    "data"
   ]
  },
  {
   "cell_type": "code",
   "execution_count": 38,
   "metadata": {},
   "outputs": [
    {
     "data": {
      "text/plain": [
       "array([[0.72833212, 0.79963635, 0.95654337, 0.11745646],\n",
       "       [0.46217238, 0.20830138, 0.04354799, 0.41218107]])"
      ]
     },
     "execution_count": 38,
     "metadata": {},
     "output_type": "execute_result"
    }
   ],
   "source": [
    "data[0][0:2]"
   ]
  },
  {
   "cell_type": "markdown",
   "metadata": {},
   "source": [
    "# 3. Update"
   ]
  },
  {
   "cell_type": "code",
   "execution_count": 19,
   "metadata": {},
   "outputs": [],
   "source": [
    "list1 = np.random.rand(10) \n",
    "list2 = np.random.rand(10) "
   ]
  },
  {
   "cell_type": "code",
   "execution_count": null,
   "metadata": {},
   "outputs": [
    {
     "name": "stdout",
     "output_type": "stream",
     "text": [
      "[0.91859167 1.81667633 0.67283356 0.45362365 0.6956376  1.02143568\n",
      " 1.14479545 0.10933102 0.45065317 0.73698532]\n",
      "[0.02392472 0.93395513 0.4158901  0.16119296 0.54743991 0.14703506\n",
      " 0.46126101 0.01584386 0.13825848 0.68141625]\n"
     ]
    }
   ],
   "source": [
    "print(list1)\n",
    "print(list2)"
   ]
  },
  {
   "cell_type": "code",
   "execution_count": 47,
   "metadata": {},
   "outputs": [
    {
     "data": {
      "text/plain": [
       "1.9179046905667985"
      ]
     },
     "execution_count": 47,
     "metadata": {},
     "output_type": "execute_result"
    }
   ],
   "source": [
    "# Basic Math\n",
    "add = np.add(list1, list2)\n",
    "sub = np.subtract(list1, list2)\n",
    "div = np.divide(list1, list2)\n",
    "mult = np.multiply(list1, list2)\n",
    "dot = np.dot(list1, list2)\n",
    "add\n",
    "sub\n",
    "div\n",
    "dot"
   ]
  },
  {
   "cell_type": "code",
   "execution_count": 50,
   "metadata": {},
   "outputs": [
    {
     "ename": "SyntaxError",
     "evalue": "invalid syntax. Perhaps you forgot a comma? (220912851.py, line 2)",
     "output_type": "error",
     "traceback": [
      "\u001b[1;36m  Cell \u001b[1;32mIn[50], line 2\u001b[1;36m\u001b[0m\n\u001b[1;33m    [1 2\u001b[0m\n\u001b[1;37m     ^\u001b[0m\n\u001b[1;31mSyntaxError\u001b[0m\u001b[1;31m:\u001b[0m invalid syntax. Perhaps you forgot a comma?\n"
     ]
    }
   ],
   "source": [
    "dot    \n",
    "[1 2    \n",
    "3 4]"
   ]
  },
  {
   "cell_type": "code",
   "execution_count": 54,
   "metadata": {},
   "outputs": [
    {
     "data": {
      "text/plain": [
       "array([ 7.3890561 , 20.08553692])"
      ]
     },
     "execution_count": 54,
     "metadata": {},
     "output_type": "execute_result"
    }
   ],
   "source": [
    "# Stat Functions\n",
    "sqrt = np.sqrt(25)\n",
    "ab = np.abs(-2)\n",
    "power = np.power(2,7)\n",
    "log = np.log(data)\n",
    "exp = np.exp([2,3])\n",
    "mins = np.min(list1)\n",
    "maxs = np.max(list1)\n",
    "exp"
   ]
  },
  {
   "cell_type": "code",
   "execution_count": 34,
   "metadata": {},
   "outputs": [
    {
     "data": {
      "text/plain": [
       "array([[[-0.45727825, -1.73762976, -2.00149388, -1.65196187],\n",
       "        [-0.35421361, -0.80605596, -0.56030619, -0.46647907],\n",
       "        [-0.6915376 , -0.6178291 , -3.23883703, -0.11040235]],\n",
       "\n",
       "       [[-0.03204431, -2.09456467, -0.87270946, -1.41305019],\n",
       "        [-0.28078646, -3.93375834, -1.0478005 , -0.05282794],\n",
       "        [-0.91106737, -3.19516244, -0.69009193, -0.04082848]]])"
      ]
     },
     "execution_count": 34,
     "metadata": {},
     "output_type": "execute_result"
    }
   ],
   "source": [
    "log"
   ]
  },
  {
   "cell_type": "code",
   "execution_count": 14,
   "metadata": {},
   "outputs": [
    {
     "data": {
      "text/plain": [
       "array([[[0.01038681, 0.21787218, 0.42851835, 0.64881025],\n",
       "        [0.19335512, 0.21826725, 0.01899688, 0.76551894],\n",
       "        [0.177093  , 0.20436728, 0.87188558, 0.22251969]],\n",
       "\n",
       "       [[0.70927591, 0.34284349, 0.09135198, 0.4352562 ],\n",
       "        [0.70341639, 0.2321961 , 0.13272667, 0.24661041],\n",
       "        [0.34284819, 0.8144995 , 0.81043251, 0.66375411]]])"
      ]
     },
     "execution_count": 14,
     "metadata": {},
     "output_type": "execute_result"
    }
   ],
   "source": [
    "data"
   ]
  },
  {
   "cell_type": "code",
   "execution_count": 21,
   "metadata": {},
   "outputs": [],
   "source": [
    "data[0][0][0] = 100"
   ]
  },
  {
   "cell_type": "code",
   "execution_count": 22,
   "metadata": {},
   "outputs": [
    {
     "data": {
      "text/plain": [
       "array([[[1.00000000e+02, 9.94548891e-01, 8.23698032e-01, 1.67781910e-01],\n",
       "        [5.73940933e-01, 2.73830804e-01, 3.66586308e-01, 7.88158797e-01],\n",
       "        [4.37105684e-01, 3.36140172e-01, 3.24169519e-01, 2.88250474e-01]],\n",
       "\n",
       "       [[4.49031394e-01, 1.47322595e-01, 7.49536334e-01, 2.33479732e-02],\n",
       "        [9.31314353e-01, 6.66111029e-01, 5.60221160e-01, 4.77946807e-01],\n",
       "        [6.86652987e-01, 6.64581853e-01, 1.73953700e-01, 3.51192377e-01]]])"
      ]
     },
     "execution_count": 22,
     "metadata": {},
     "output_type": "execute_result"
    }
   ],
   "source": [
    "data"
   ]
  },
  {
   "cell_type": "code",
   "execution_count": 57,
   "metadata": {},
   "outputs": [
    {
     "data": {
      "text/plain": [
       "array([[[1.17456456e-01, 7.99636349e-01, 9.56543373e-01, 7.00000000e+02],\n",
       "        [4.35479923e-02, 2.08301381e-01, 4.12181071e-01, 4.62172385e-01],\n",
       "        [9.29145422e-02, 2.46242387e-01, 8.59369665e-01, 9.82604790e-01]],\n",
       "\n",
       "       [[6.56075289e-02, 2.13031244e-01, 4.40200557e-01, 5.32137653e-01],\n",
       "        [1.43663245e-01, 5.15863708e-01, 7.90154155e-01, 9.22388837e-01],\n",
       "        [4.31899920e-01, 4.61135477e-01, 5.27891582e-01, 8.64146342e-01]]])"
      ]
     },
     "execution_count": 57,
     "metadata": {},
     "output_type": "execute_result"
    }
   ],
   "source": [
    "data.sort()\n",
    "data"
   ]
  },
  {
   "cell_type": "code",
   "execution_count": 58,
   "metadata": {},
   "outputs": [
    {
     "name": "stdout",
     "output_type": "stream",
     "text": [
      "(2, 3, 4)\n"
     ]
    }
   ],
   "source": [
    "print(data.shape)"
   ]
  },
  {
   "cell_type": "code",
   "execution_count": 59,
   "metadata": {},
   "outputs": [
    {
     "data": {
      "text/plain": [
       "(24, 1)"
      ]
     },
     "execution_count": 59,
     "metadata": {},
     "output_type": "execute_result"
    }
   ],
   "source": [
    "data = data.reshape((24,1))\n",
    "data.shape"
   ]
  },
  {
   "cell_type": "code",
   "execution_count": 60,
   "metadata": {},
   "outputs": [
    {
     "data": {
      "text/plain": [
       "array([[1.17456456e-01],\n",
       "       [7.99636349e-01],\n",
       "       [9.56543373e-01],\n",
       "       [7.00000000e+02],\n",
       "       [4.35479923e-02],\n",
       "       [2.08301381e-01],\n",
       "       [4.12181071e-01],\n",
       "       [4.62172385e-01],\n",
       "       [9.29145422e-02],\n",
       "       [2.46242387e-01],\n",
       "       [8.59369665e-01],\n",
       "       [9.82604790e-01],\n",
       "       [6.56075289e-02],\n",
       "       [2.13031244e-01],\n",
       "       [4.40200557e-01],\n",
       "       [5.32137653e-01],\n",
       "       [1.43663245e-01],\n",
       "       [5.15863708e-01],\n",
       "       [7.90154155e-01],\n",
       "       [9.22388837e-01],\n",
       "       [4.31899920e-01],\n",
       "       [4.61135477e-01],\n",
       "       [5.27891582e-01],\n",
       "       [8.64146342e-01]])"
      ]
     },
     "execution_count": 60,
     "metadata": {},
     "output_type": "execute_result"
    }
   ],
   "source": [
    "data"
   ]
  },
  {
   "cell_type": "code",
   "execution_count": 61,
   "metadata": {},
   "outputs": [
    {
     "name": "stdout",
     "output_type": "stream",
     "text": [
      "[0. 0. 0. 0. 0. 0. 0. 0.]\n",
      "[0. 0. 0. 0. 0. 0. 0. 0. 3. 4.]\n"
     ]
    }
   ],
   "source": [
    "zeroes = np.zeros((8))\n",
    "print(zeroes)\n",
    "zeroes = np.append(zeroes, [3,4])\n",
    "print(zeroes)"
   ]
  },
  {
   "cell_type": "code",
   "execution_count": 62,
   "metadata": {},
   "outputs": [
    {
     "name": "stdout",
     "output_type": "stream",
     "text": [
      "[0. 0. 1. 0. 0. 0. 0. 0. 0. 3. 4.]\n"
     ]
    }
   ],
   "source": [
    "zeroes = np.insert(zeroes, 2, 1)\n",
    "print(zeroes)"
   ]
  },
  {
   "cell_type": "markdown",
   "metadata": {},
   "source": [
    "# 4. Delete"
   ]
  },
  {
   "cell_type": "code",
   "execution_count": 54,
   "metadata": {},
   "outputs": [
    {
     "data": {
      "text/plain": [
       "array([[0.63300418],\n",
       "       [0.17593692],\n",
       "       [0.13513326],\n",
       "       [0.1916735 ],\n",
       "       [0.70172506],\n",
       "       [0.44661607],\n",
       "       [0.57103419],\n",
       "       [0.62720674],\n",
       "       [0.50080544],\n",
       "       [0.53911353],\n",
       "       [0.03920947],\n",
       "       [0.89547377],\n",
       "       [0.96846367],\n",
       "       [0.12312383],\n",
       "       [0.41781795],\n",
       "       [0.24339973],\n",
       "       [0.75518958],\n",
       "       [0.01956998],\n",
       "       [0.35070828],\n",
       "       [0.9485432 ],\n",
       "       [0.40209481],\n",
       "       [0.04095987],\n",
       "       [0.50152996],\n",
       "       [0.95999378]])"
      ]
     },
     "execution_count": 54,
     "metadata": {},
     "output_type": "execute_result"
    }
   ],
   "source": [
    "data"
   ]
  },
  {
   "cell_type": "code",
   "execution_count": 63,
   "metadata": {},
   "outputs": [
    {
     "data": {
      "text/plain": [
       "array([], shape=(24, 0), dtype=float64)"
      ]
     },
     "execution_count": 63,
     "metadata": {},
     "output_type": "execute_result"
    }
   ],
   "source": [
    "np.delete(data, 0, axis=1)"
   ]
  },
  {
   "cell_type": "code",
   "execution_count": 64,
   "metadata": {},
   "outputs": [
    {
     "data": {
      "text/plain": [
       "(24, 1)"
      ]
     },
     "execution_count": 64,
     "metadata": {},
     "output_type": "execute_result"
    }
   ],
   "source": [
    "data.shape"
   ]
  },
  {
   "cell_type": "code",
   "execution_count": 65,
   "metadata": {},
   "outputs": [
    {
     "data": {
      "text/plain": [
       "array([[1.17456456e-01],\n",
       "       [7.99636349e-01],\n",
       "       [9.56543373e-01],\n",
       "       [7.00000000e+02],\n",
       "       [4.35479923e-02],\n",
       "       [2.08301381e-01],\n",
       "       [4.12181071e-01],\n",
       "       [4.62172385e-01],\n",
       "       [9.29145422e-02],\n",
       "       [2.46242387e-01],\n",
       "       [8.59369665e-01],\n",
       "       [9.82604790e-01],\n",
       "       [6.56075289e-02],\n",
       "       [2.13031244e-01],\n",
       "       [4.40200557e-01],\n",
       "       [5.32137653e-01],\n",
       "       [1.43663245e-01],\n",
       "       [5.15863708e-01],\n",
       "       [7.90154155e-01],\n",
       "       [9.22388837e-01],\n",
       "       [4.31899920e-01],\n",
       "       [4.61135477e-01],\n",
       "       [5.27891582e-01],\n",
       "       [8.64146342e-01]])"
      ]
     },
     "execution_count": 65,
     "metadata": {},
     "output_type": "execute_result"
    }
   ],
   "source": [
    "data"
   ]
  },
  {
   "cell_type": "code",
   "execution_count": 67,
   "metadata": {},
   "outputs": [],
   "source": [
    "np.save(\"new array\", data)"
   ]
  },
  {
   "cell_type": "code",
   "execution_count": 68,
   "metadata": {},
   "outputs": [],
   "source": [
    "test = np.load(\"new array.npy\")"
   ]
  },
  {
   "cell_type": "code",
   "execution_count": 69,
   "metadata": {},
   "outputs": [
    {
     "data": {
      "text/plain": [
       "array([[1.17456456e-01],\n",
       "       [7.99636349e-01],\n",
       "       [9.56543373e-01],\n",
       "       [7.00000000e+02],\n",
       "       [4.35479923e-02],\n",
       "       [2.08301381e-01],\n",
       "       [4.12181071e-01],\n",
       "       [4.62172385e-01],\n",
       "       [9.29145422e-02],\n",
       "       [2.46242387e-01],\n",
       "       [8.59369665e-01],\n",
       "       [9.82604790e-01],\n",
       "       [6.56075289e-02],\n",
       "       [2.13031244e-01],\n",
       "       [4.40200557e-01],\n",
       "       [5.32137653e-01],\n",
       "       [1.43663245e-01],\n",
       "       [5.15863708e-01],\n",
       "       [7.90154155e-01],\n",
       "       [9.22388837e-01],\n",
       "       [4.31899920e-01],\n",
       "       [4.61135477e-01],\n",
       "       [5.27891582e-01],\n",
       "       [8.64146342e-01]])"
      ]
     },
     "execution_count": 69,
     "metadata": {},
     "output_type": "execute_result"
    }
   ],
   "source": [
    "test"
   ]
  },
  {
   "cell_type": "code",
   "execution_count": null,
   "metadata": {},
   "outputs": [],
   "source": []
  }
 ],
 "metadata": {
  "kernelspec": {
   "display_name": "Python 3",
   "language": "python",
   "name": "python3"
  },
  "language_info": {
   "codemirror_mode": {
    "name": "ipython",
    "version": 3
   },
   "file_extension": ".py",
   "mimetype": "text/x-python",
   "name": "python",
   "nbconvert_exporter": "python",
   "pygments_lexer": "ipython3",
   "version": "3.13.3"
  }
 },
 "nbformat": 4,
 "nbformat_minor": 2
}

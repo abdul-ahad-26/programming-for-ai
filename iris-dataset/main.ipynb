{
 "cells": [
  {
   "cell_type": "markdown",
   "id": "f798ee54",
   "metadata": {},
   "source": [
    "#  Iris Dataset"
   ]
  },
  {
   "cell_type": "markdown",
   "id": "1be205dc",
   "metadata": {},
   "source": [
    "## Task 1: Load the Dataset "
   ]
  },
  {
   "cell_type": "markdown",
   "id": "d6006904",
   "metadata": {},
   "source": [
    "### 1. Load the CSV file using np.genfromtxt() or np.loadtxt() (skip the header if needed)."
   ]
  },
  {
   "cell_type": "code",
   "execution_count": 70,
   "id": "be61e40c",
   "metadata": {},
   "outputs": [
    {
     "name": "stdout",
     "output_type": "stream",
     "text": [
      "Data:\n",
      " [[1.  5.1 3.5 1.4 0.2 nan]\n",
      " [2.  4.9 3.  1.4 0.2 nan]\n",
      " [3.  4.7 3.2 1.3 0.2 nan]\n",
      " [4.  4.6 3.1 1.5 0.2 nan]\n",
      " [5.  5.  3.6 1.4 0.2 nan]]\n"
     ]
    }
   ],
   "source": [
    "import numpy as np\n",
    "data = np.genfromtxt(\"iris.csv\", delimiter=\",\", skip_header=1)\n",
    "print(\"Data:\\n\",data[:5])"
   ]
  },
  {
   "cell_type": "markdown",
   "id": "902a5335",
   "metadata": {},
   "source": [
    "### 2. Slice out the numerical columns into a separate NumPy array (4 features only). "
   ]
  },
  {
   "cell_type": "code",
   "execution_count": 71,
   "id": "516e1526",
   "metadata": {},
   "outputs": [
    {
     "name": "stdout",
     "output_type": "stream",
     "text": [
      "Features: \n",
      " [[5.1 3.5 1.4 0.2]\n",
      " [4.9 3.  1.4 0.2]\n",
      " [4.7 3.2 1.3 0.2]\n",
      " [4.6 3.1 1.5 0.2]\n",
      " [5.  3.6 1.4 0.2]]\n"
     ]
    }
   ],
   "source": [
    "features = data[: , 1:5]\n",
    "# features = np.transpose(numerical_columns)\n",
    "print(\"Features: \\n\",features[:5])"
   ]
  },
  {
   "cell_type": "markdown",
   "id": "3849d1f4",
   "metadata": {},
   "source": [
    "### 3. Print the shape of the resulting NumPy array. "
   ]
  },
  {
   "cell_type": "code",
   "execution_count": 72,
   "id": "2fd8ba71",
   "metadata": {},
   "outputs": [
    {
     "name": "stdout",
     "output_type": "stream",
     "text": [
      "Shape of features array:  (150, 4)\n"
     ]
    }
   ],
   "source": [
    "features_shape = np.shape(features)\n",
    "print(\"Shape of features array: \",features_shape)"
   ]
  },
  {
   "cell_type": "markdown",
   "id": "bd81c37a",
   "metadata": {},
   "source": [
    "#### Extracting Individual Feature"
   ]
  },
  {
   "cell_type": "code",
   "execution_count": 73,
   "id": "52b5ed30",
   "metadata": {},
   "outputs": [
    {
     "name": "stdout",
     "output_type": "stream",
     "text": [
      "Sepal length: \n",
      " [5.1 4.9 4.7 4.6 5.  5.4 4.6 5.  4.4 4.9 5.4 4.8 4.8 4.3 5.8 5.7 5.4 5.1\n",
      " 5.7 5.1 5.4 5.1 4.6 5.1 4.8 5.  5.  5.2 5.2 4.7 4.8 5.4 5.2 5.5 4.9 5.\n",
      " 5.5 4.9 4.4 5.1 5.  4.5 4.4 5.  5.1 4.8 5.1 4.6 5.3 5.  7.  6.4 6.9 5.5\n",
      " 6.5 5.7 6.3 4.9 6.6 5.2 5.  5.9 6.  6.1 5.6 6.7 5.6 5.8 6.2 5.6 5.9 6.1\n",
      " 6.3 6.1 6.4 6.6 6.8 6.7 6.  5.7 5.5 5.5 5.8 6.  5.4 6.  6.7 6.3 5.6 5.5\n",
      " 5.5 6.1 5.8 5.  5.6 5.7 5.7 6.2 5.1 5.7 6.3 5.8 7.1 6.3 6.5 7.6 4.9 7.3\n",
      " 6.7 7.2 6.5 6.4 6.8 5.7 5.8 6.4 6.5 7.7 7.7 6.  6.9 5.6 7.7 6.3 6.7 7.2\n",
      " 6.2 6.1 6.4 7.2 7.4 7.9 6.4 6.3 6.1 7.7 6.3 6.4 6.  6.9 6.7 6.9 5.8 6.8\n",
      " 6.7 6.7 6.3 6.5 6.2 5.9]\n",
      "Sepal width: \n",
      " [3.5 3.  3.2 3.1 3.6 3.9 3.4 3.4 2.9 3.1 3.7 3.4 3.  3.  4.  4.4 3.9 3.5\n",
      " 3.8 3.8 3.4 3.7 3.6 3.3 3.4 3.  3.4 3.5 3.4 3.2 3.1 3.4 4.1 4.2 3.1 3.2\n",
      " 3.5 3.1 3.  3.4 3.5 2.3 3.2 3.5 3.8 3.  3.8 3.2 3.7 3.3 3.2 3.2 3.1 2.3\n",
      " 2.8 2.8 3.3 2.4 2.9 2.7 2.  3.  2.2 2.9 2.9 3.1 3.  2.7 2.2 2.5 3.2 2.8\n",
      " 2.5 2.8 2.9 3.  2.8 3.  2.9 2.6 2.4 2.4 2.7 2.7 3.  3.4 3.1 2.3 3.  2.5\n",
      " 2.6 3.  2.6 2.3 2.7 3.  2.9 2.9 2.5 2.8 3.3 2.7 3.  2.9 3.  3.  2.5 2.9\n",
      " 2.5 3.6 3.2 2.7 3.  2.5 2.8 3.2 3.  3.8 2.6 2.2 3.2 2.8 2.8 2.7 3.3 3.2\n",
      " 2.8 3.  2.8 3.  2.8 3.8 2.8 2.8 2.6 3.  3.4 3.1 3.  3.1 3.1 3.1 2.7 3.2\n",
      " 3.3 3.  2.5 3.  3.4 3. ]\n",
      "petal length: \n",
      " [1.4 1.4 1.3 1.5 1.4 1.7 1.4 1.5 1.4 1.5 1.5 1.6 1.4 1.1 1.2 1.5 1.3 1.4\n",
      " 1.7 1.5 1.7 1.5 1.  1.7 1.9 1.6 1.6 1.5 1.4 1.6 1.6 1.5 1.5 1.4 1.5 1.2\n",
      " 1.3 1.5 1.3 1.5 1.3 1.3 1.3 1.6 1.9 1.4 1.6 1.4 1.5 1.4 4.7 4.5 4.9 4.\n",
      " 4.6 4.5 4.7 3.3 4.6 3.9 3.5 4.2 4.  4.7 3.6 4.4 4.5 4.1 4.5 3.9 4.8 4.\n",
      " 4.9 4.7 4.3 4.4 4.8 5.  4.5 3.5 3.8 3.7 3.9 5.1 4.5 4.5 4.7 4.4 4.1 4.\n",
      " 4.4 4.6 4.  3.3 4.2 4.2 4.2 4.3 3.  4.1 6.  5.1 5.9 5.6 5.8 6.6 4.5 6.3\n",
      " 5.8 6.1 5.1 5.3 5.5 5.  5.1 5.3 5.5 6.7 6.9 5.  5.7 4.9 6.7 4.9 5.7 6.\n",
      " 4.8 4.9 5.6 5.8 6.1 6.4 5.6 5.1 5.6 6.1 5.6 5.5 4.8 5.4 5.6 5.1 5.1 5.9\n",
      " 5.7 5.2 5.  5.2 5.4 5.1]\n",
      "petal width: \n",
      " [0.2 0.2 0.2 0.2 0.2 0.4 0.3 0.2 0.2 0.1 0.2 0.2 0.1 0.1 0.2 0.4 0.4 0.3\n",
      " 0.3 0.3 0.2 0.4 0.2 0.5 0.2 0.2 0.4 0.2 0.2 0.2 0.2 0.4 0.1 0.2 0.1 0.2\n",
      " 0.2 0.1 0.2 0.2 0.3 0.3 0.2 0.6 0.4 0.3 0.2 0.2 0.2 0.2 1.4 1.5 1.5 1.3\n",
      " 1.5 1.3 1.6 1.  1.3 1.4 1.  1.5 1.  1.4 1.3 1.4 1.5 1.  1.5 1.1 1.8 1.3\n",
      " 1.5 1.2 1.3 1.4 1.4 1.7 1.5 1.  1.1 1.  1.2 1.6 1.5 1.6 1.5 1.3 1.3 1.3\n",
      " 1.2 1.4 1.2 1.  1.3 1.2 1.3 1.3 1.1 1.3 2.5 1.9 2.1 1.8 2.2 2.1 1.7 1.8\n",
      " 1.8 2.5 2.  1.9 2.1 2.  2.4 2.3 1.8 2.2 2.3 1.5 2.3 2.  2.  1.8 2.1 1.8\n",
      " 1.8 1.8 2.1 1.6 1.9 2.  2.2 1.5 1.4 2.3 2.4 1.8 1.8 2.1 2.4 2.3 1.9 2.3\n",
      " 2.5 2.3 1.9 2.  2.3 1.8]\n"
     ]
    }
   ],
   "source": [
    "sepal_length = features[:,0]\n",
    "sepal_width = features[:,1]\n",
    "petal_length = features[:,2]\n",
    "petal_width = features[:,3]\n",
    "print(\"Sepal length: \\n\", sepal_length)\n",
    "print(\"Sepal width: \\n\", sepal_width)\n",
    "print(\"petal length: \\n\", petal_length)\n",
    "print(\"petal width: \\n\", petal_width)"
   ]
  },
  {
   "cell_type": "markdown",
   "id": "686949c6",
   "metadata": {},
   "source": [
    "## Task 2: Basic Array Operations \n",
    "\n"
   ]
  },
  {
   "cell_type": "markdown",
   "id": "98eb7bbe",
   "metadata": {},
   "source": [
    "### 1. Compute the mean, max, and min for each column. \n"
   ]
  },
  {
   "cell_type": "code",
   "execution_count": 74,
   "id": "5cd9d7bc",
   "metadata": {},
   "outputs": [
    {
     "name": "stdout",
     "output_type": "stream",
     "text": [
      "Mean:  [5.84333333 3.054      3.75866667 1.19866667]\n",
      "Max:  [7.9 4.4 6.9 2.5]\n",
      "Min:  [4.3 2.  1.  0.1]\n"
     ]
    }
   ],
   "source": [
    "mean = np.mean(features,axis=0)\n",
    "max = np.max(features,axis=0)\n",
    "min = np.min(features,axis=0)\n",
    "print(\"Mean: \", mean)\n",
    "print(\"Max: \", max)\n",
    "print(\"Min: \", min)\n"
   ]
  },
  {
   "cell_type": "markdown",
   "id": "87352ce1",
   "metadata": {},
   "source": [
    "### 2. Calculate the standard deviation and variance for the dataset. "
   ]
  },
  {
   "cell_type": "code",
   "execution_count": 75,
   "id": "602c7329",
   "metadata": {},
   "outputs": [
    {
     "name": "stdout",
     "output_type": "stream",
     "text": [
      "Variance:  [0.68 0.19 3.09 0.58]\n",
      "Standard deviation:  [0.83 0.43 1.76 0.76]\n"
     ]
    }
   ],
   "source": [
    "variance = np.var(features, axis=0)\n",
    "standard_deviation = np.std(features, axis=0)\n",
    "print(\"Variance: \", np.round(variance, 2))\n",
    "print(\"Standard deviation: \", np.round(standard_deviation, 2))"
   ]
  },
  {
   "cell_type": "markdown",
   "id": "8db21654",
   "metadata": {},
   "source": [
    "### 3. Normalize the data using Z-score normalization: \n",
    "z=x−μσz = \\frac{x - \\mu}{\\sigma} "
   ]
  },
  {
   "cell_type": "code",
   "execution_count": 76,
   "id": "8d37e49d",
   "metadata": {},
   "outputs": [
    {
     "name": "stdout",
     "output_type": "stream",
     "text": [
      "Normalized Features:\n",
      " [[-0.9   1.03 -1.34 -1.31]\n",
      " [-1.14 -0.12 -1.34 -1.31]\n",
      " [-1.39  0.34 -1.4  -1.31]\n",
      " [-1.51  0.11 -1.28 -1.31]\n",
      " [-1.02  1.26 -1.34 -1.31]]\n"
     ]
    }
   ],
   "source": [
    "# Z-score normalization\n",
    "normalized_features = (features - mean) / standard_deviation\n",
    "\n",
    "# Display the first 5 rows of normalized data\n",
    "print(\"Normalized Features:\\n\", np.round(normalized_features[:5], 2))"
   ]
  },
  {
   "cell_type": "markdown",
   "id": "49b0cb01",
   "metadata": {},
   "source": [
    "## Task 3: Indexing and Slicing "
   ]
  },
  {
   "cell_type": "markdown",
   "id": "364ec643",
   "metadata": {},
   "source": [
    "### 1. Extract only the Sepal Length column. "
   ]
  },
  {
   "cell_type": "code",
   "execution_count": 77,
   "id": "ce341c8e",
   "metadata": {},
   "outputs": [
    {
     "name": "stdout",
     "output_type": "stream",
     "text": [
      "Sepal length: \n",
      " [5.1 4.9 4.7 4.6 5.  5.4 4.6 5.  4.4 4.9 5.4 4.8 4.8 4.3 5.8 5.7 5.4 5.1\n",
      " 5.7 5.1 5.4 5.1 4.6 5.1 4.8 5.  5.  5.2 5.2 4.7 4.8 5.4 5.2 5.5 4.9 5.\n",
      " 5.5 4.9 4.4 5.1 5.  4.5 4.4 5.  5.1 4.8 5.1 4.6 5.3 5.  7.  6.4 6.9 5.5\n",
      " 6.5 5.7 6.3 4.9 6.6 5.2 5.  5.9 6.  6.1 5.6 6.7 5.6 5.8 6.2 5.6 5.9 6.1\n",
      " 6.3 6.1 6.4 6.6 6.8 6.7 6.  5.7 5.5 5.5 5.8 6.  5.4 6.  6.7 6.3 5.6 5.5\n",
      " 5.5 6.1 5.8 5.  5.6 5.7 5.7 6.2 5.1 5.7 6.3 5.8 7.1 6.3 6.5 7.6 4.9 7.3\n",
      " 6.7 7.2 6.5 6.4 6.8 5.7 5.8 6.4 6.5 7.7 7.7 6.  6.9 5.6 7.7 6.3 6.7 7.2\n",
      " 6.2 6.1 6.4 7.2 7.4 7.9 6.4 6.3 6.1 7.7 6.3 6.4 6.  6.9 6.7 6.9 5.8 6.8\n",
      " 6.7 6.7 6.3 6.5 6.2 5.9]\n"
     ]
    }
   ],
   "source": [
    "sepal_length = features[:,0]\n",
    "print(\"Sepal length: \\n\", sepal_length)"
   ]
  },
  {
   "cell_type": "markdown",
   "id": "c14d35d6",
   "metadata": {},
   "source": [
    "### 2. Get the values for the first 10 flowers. "
   ]
  },
  {
   "cell_type": "code",
   "execution_count": 78,
   "id": "0925502e",
   "metadata": {},
   "outputs": [
    {
     "data": {
      "text/plain": [
       "array([[5.1, 3.5, 1.4, 0.2],\n",
       "       [4.9, 3. , 1.4, 0.2],\n",
       "       [4.7, 3.2, 1.3, 0.2],\n",
       "       [4.6, 3.1, 1.5, 0.2],\n",
       "       [5. , 3.6, 1.4, 0.2],\n",
       "       [5.4, 3.9, 1.7, 0.4],\n",
       "       [4.6, 3.4, 1.4, 0.3],\n",
       "       [5. , 3.4, 1.5, 0.2],\n",
       "       [4.4, 2.9, 1.4, 0.2],\n",
       "       [4.9, 3.1, 1.5, 0.1]])"
      ]
     },
     "execution_count": 78,
     "metadata": {},
     "output_type": "execute_result"
    }
   ],
   "source": [
    "features[:10]"
   ]
  },
  {
   "cell_type": "markdown",
   "id": "aa525561",
   "metadata": {},
   "source": [
    "### 3. Extract flowers where Petal Length > 1.5. "
   ]
  },
  {
   "cell_type": "code",
   "execution_count": 79,
   "id": "e93fb1bf",
   "metadata": {},
   "outputs": [
    {
     "name": "stdout",
     "output_type": "stream",
     "text": [
      "Flowers with long petals:\n",
      " (array([  5,  11,  18,  20,  23,  24,  25,  26,  29,  30,  43,  44,  46,\n",
      "        50,  51,  52,  53,  54,  55,  56,  57,  58,  59,  60,  61,  62,\n",
      "        63,  64,  65,  66,  67,  68,  69,  70,  71,  72,  73,  74,  75,\n",
      "        76,  77,  78,  79,  80,  81,  82,  83,  84,  85,  86,  87,  88,\n",
      "        89,  90,  91,  92,  93,  94,  95,  96,  97,  98,  99, 100, 101,\n",
      "       102, 103, 104, 105, 106, 107, 108, 109, 110, 111, 112, 113, 114,\n",
      "       115, 116, 117, 118, 119, 120, 121, 122, 123, 124, 125, 126, 127,\n",
      "       128, 129, 130, 131, 132, 133, 134, 135, 136, 137, 138, 139, 140,\n",
      "       141, 142, 143, 144, 145, 146, 147, 148, 149], dtype=int64),)\n"
     ]
    }
   ],
   "source": [
    "flowers_with_long_petals = np.where(petal_length>1.5,petal_length,0).nonzero()\n",
    "print(\"Flowers with long petals:\\n\", flowers_with_long_petals)"
   ]
  },
  {
   "cell_type": "markdown",
   "id": "ec36f080",
   "metadata": {},
   "source": [
    "## Task 4: Advanced Operations "
   ]
  },
  {
   "cell_type": "markdown",
   "id": "cfc2c03c",
   "metadata": {},
   "source": [
    "### 1. Find the Euclidean distance between the first two rows. "
   ]
  },
  {
   "cell_type": "code",
   "execution_count": 80,
   "id": "c1897128",
   "metadata": {},
   "outputs": [
    {
     "name": "stdout",
     "output_type": "stream",
     "text": [
      "Euclidean distance between first two rows: 0.5385164807134502\n"
     ]
    }
   ],
   "source": [
    "# First two rows of the dataset\n",
    "# row1 = features[0]\n",
    "# row2 = features[1]\n",
    "\n",
    "# # Euclidean distance\n",
    "# distance = np.linalg.norm(row1 - row2)\n",
    "\n",
    "# print(\"Euclidean distance between first two rows:\", distance)\n",
    "row1 = features[0]\n",
    "row2 = features[1]\n",
    "\n",
    "distance = np.linalg.norm(row1 - row2)\n",
    "print(\"Euclidean distance between first two rows:\", distance)"
   ]
  },
  {
   "cell_type": "markdown",
   "id": "f7804364",
   "metadata": {},
   "source": [
    "### 2. Count how many flowers have Sepal Width greater than the mean. "
   ]
  },
  {
   "cell_type": "code",
   "execution_count": 81,
   "id": "50036654",
   "metadata": {},
   "outputs": [
    {
     "name": "stdout",
     "output_type": "stream",
     "text": [
      "No of flowers having sepal width greater than mean:  67\n"
     ]
    }
   ],
   "source": [
    "# mean_sepal_width = sepal_width.mean()\n",
    "# np.where(sepal_width > mean_sepal_width, 1, 0 ).sum()\n",
    "mean_sepal_width = sepal_width.mean()\n",
    "greater_than_mean = sepal_width > mean_sepal_width\n",
    "\n",
    "count = np.sum(greater_than_mean)\n",
    "print(\"No of flowers having sepal width greater than mean: \", count)"
   ]
  },
  {
   "cell_type": "markdown",
   "id": "9f72c6e4",
   "metadata": {},
   "source": [
    "### 3. Multiply two columns element-wise (e.g., SepalLength * PetalLength). \n"
   ]
  },
  {
   "cell_type": "code",
   "execution_count": 82,
   "id": "856266e8",
   "metadata": {},
   "outputs": [
    {
     "data": {
      "text/plain": [
       "array([ 7.14,  6.86,  6.11,  6.9 ,  7.  ,  9.18,  6.44,  7.5 ,  6.16,\n",
       "        7.35,  8.1 ,  7.68,  6.72,  4.73,  6.96,  8.55,  7.02,  7.14,\n",
       "        9.69,  7.65,  9.18,  7.65,  4.6 ,  8.67,  9.12,  8.  ,  8.  ,\n",
       "        7.8 ,  7.28,  7.52,  7.68,  8.1 ,  7.8 ,  7.7 ,  7.35,  6.  ,\n",
       "        7.15,  7.35,  5.72,  7.65,  6.5 ,  5.85,  5.72,  8.  ,  9.69,\n",
       "        6.72,  8.16,  6.44,  7.95,  7.  , 32.9 , 28.8 , 33.81, 22.  ,\n",
       "       29.9 , 25.65, 29.61, 16.17, 30.36, 20.28, 17.5 , 24.78, 24.  ,\n",
       "       28.67, 20.16, 29.48, 25.2 , 23.78, 27.9 , 21.84, 28.32, 24.4 ,\n",
       "       30.87, 28.67, 27.52, 29.04, 32.64, 33.5 , 27.  , 19.95, 20.9 ,\n",
       "       20.35, 22.62, 30.6 , 24.3 , 27.  , 31.49, 27.72, 22.96, 22.  ,\n",
       "       24.2 , 28.06, 23.2 , 16.5 , 23.52, 23.94, 23.94, 26.66, 15.3 ,\n",
       "       23.37, 37.8 , 29.58, 41.89, 35.28, 37.7 , 50.16, 22.05, 45.99,\n",
       "       38.86, 43.92, 33.15, 33.92, 37.4 , 28.5 , 29.58, 33.92, 35.75,\n",
       "       51.59, 53.13, 30.  , 39.33, 27.44, 51.59, 30.87, 38.19, 43.2 ,\n",
       "       29.76, 29.89, 35.84, 41.76, 45.14, 50.56, 35.84, 32.13, 34.16,\n",
       "       46.97, 35.28, 35.2 , 28.8 , 37.26, 37.52, 35.19, 29.58, 40.12,\n",
       "       38.19, 34.84, 31.5 , 33.8 , 33.48, 30.09])"
      ]
     },
     "execution_count": 82,
     "metadata": {},
     "output_type": "execute_result"
    }
   ],
   "source": [
    "new_column = sepal_length * petal_length\n",
    "new_column"
   ]
  },
  {
   "cell_type": "markdown",
   "id": "9fc21441",
   "metadata": {},
   "source": [
    "## Task 5: Array Reshaping and Stacking \n"
   ]
  },
  {
   "cell_type": "markdown",
   "id": "9bbb3afc",
   "metadata": {},
   "source": [
    "### 1. Reshape the array to simulate batches of size 30. "
   ]
  },
  {
   "cell_type": "code",
   "execution_count": 83,
   "id": "ab21979b",
   "metadata": {},
   "outputs": [
    {
     "name": "stdout",
     "output_type": "stream",
     "text": [
      "Current array shape:  (150, 4)\n",
      "Shape of array after reshaping:  [[[5.1 3.5 1.4 0.2]\n",
      "  [4.9 3.  1.4 0.2]\n",
      "  [4.7 3.2 1.3 0.2]\n",
      "  [4.6 3.1 1.5 0.2]\n",
      "  [5.  3.6 1.4 0.2]\n",
      "  [5.4 3.9 1.7 0.4]\n",
      "  [4.6 3.4 1.4 0.3]\n",
      "  [5.  3.4 1.5 0.2]\n",
      "  [4.4 2.9 1.4 0.2]\n",
      "  [4.9 3.1 1.5 0.1]\n",
      "  [5.4 3.7 1.5 0.2]\n",
      "  [4.8 3.4 1.6 0.2]\n",
      "  [4.8 3.  1.4 0.1]\n",
      "  [4.3 3.  1.1 0.1]\n",
      "  [5.8 4.  1.2 0.2]\n",
      "  [5.7 4.4 1.5 0.4]\n",
      "  [5.4 3.9 1.3 0.4]\n",
      "  [5.1 3.5 1.4 0.3]\n",
      "  [5.7 3.8 1.7 0.3]\n",
      "  [5.1 3.8 1.5 0.3]\n",
      "  [5.4 3.4 1.7 0.2]\n",
      "  [5.1 3.7 1.5 0.4]\n",
      "  [4.6 3.6 1.  0.2]\n",
      "  [5.1 3.3 1.7 0.5]\n",
      "  [4.8 3.4 1.9 0.2]\n",
      "  [5.  3.  1.6 0.2]\n",
      "  [5.  3.4 1.6 0.4]\n",
      "  [5.2 3.5 1.5 0.2]\n",
      "  [5.2 3.4 1.4 0.2]\n",
      "  [4.7 3.2 1.6 0.2]]\n",
      "\n",
      " [[4.8 3.1 1.6 0.2]\n",
      "  [5.4 3.4 1.5 0.4]\n",
      "  [5.2 4.1 1.5 0.1]\n",
      "  [5.5 4.2 1.4 0.2]\n",
      "  [4.9 3.1 1.5 0.1]\n",
      "  [5.  3.2 1.2 0.2]\n",
      "  [5.5 3.5 1.3 0.2]\n",
      "  [4.9 3.1 1.5 0.1]\n",
      "  [4.4 3.  1.3 0.2]\n",
      "  [5.1 3.4 1.5 0.2]\n",
      "  [5.  3.5 1.3 0.3]\n",
      "  [4.5 2.3 1.3 0.3]\n",
      "  [4.4 3.2 1.3 0.2]\n",
      "  [5.  3.5 1.6 0.6]\n",
      "  [5.1 3.8 1.9 0.4]\n",
      "  [4.8 3.  1.4 0.3]\n",
      "  [5.1 3.8 1.6 0.2]\n",
      "  [4.6 3.2 1.4 0.2]\n",
      "  [5.3 3.7 1.5 0.2]\n",
      "  [5.  3.3 1.4 0.2]\n",
      "  [7.  3.2 4.7 1.4]\n",
      "  [6.4 3.2 4.5 1.5]\n",
      "  [6.9 3.1 4.9 1.5]\n",
      "  [5.5 2.3 4.  1.3]\n",
      "  [6.5 2.8 4.6 1.5]\n",
      "  [5.7 2.8 4.5 1.3]\n",
      "  [6.3 3.3 4.7 1.6]\n",
      "  [4.9 2.4 3.3 1. ]\n",
      "  [6.6 2.9 4.6 1.3]\n",
      "  [5.2 2.7 3.9 1.4]]\n",
      "\n",
      " [[5.  2.  3.5 1. ]\n",
      "  [5.9 3.  4.2 1.5]\n",
      "  [6.  2.2 4.  1. ]\n",
      "  [6.1 2.9 4.7 1.4]\n",
      "  [5.6 2.9 3.6 1.3]\n",
      "  [6.7 3.1 4.4 1.4]\n",
      "  [5.6 3.  4.5 1.5]\n",
      "  [5.8 2.7 4.1 1. ]\n",
      "  [6.2 2.2 4.5 1.5]\n",
      "  [5.6 2.5 3.9 1.1]\n",
      "  [5.9 3.2 4.8 1.8]\n",
      "  [6.1 2.8 4.  1.3]\n",
      "  [6.3 2.5 4.9 1.5]\n",
      "  [6.1 2.8 4.7 1.2]\n",
      "  [6.4 2.9 4.3 1.3]\n",
      "  [6.6 3.  4.4 1.4]\n",
      "  [6.8 2.8 4.8 1.4]\n",
      "  [6.7 3.  5.  1.7]\n",
      "  [6.  2.9 4.5 1.5]\n",
      "  [5.7 2.6 3.5 1. ]\n",
      "  [5.5 2.4 3.8 1.1]\n",
      "  [5.5 2.4 3.7 1. ]\n",
      "  [5.8 2.7 3.9 1.2]\n",
      "  [6.  2.7 5.1 1.6]\n",
      "  [5.4 3.  4.5 1.5]\n",
      "  [6.  3.4 4.5 1.6]\n",
      "  [6.7 3.1 4.7 1.5]\n",
      "  [6.3 2.3 4.4 1.3]\n",
      "  [5.6 3.  4.1 1.3]\n",
      "  [5.5 2.5 4.  1.3]]\n",
      "\n",
      " [[5.5 2.6 4.4 1.2]\n",
      "  [6.1 3.  4.6 1.4]\n",
      "  [5.8 2.6 4.  1.2]\n",
      "  [5.  2.3 3.3 1. ]\n",
      "  [5.6 2.7 4.2 1.3]\n",
      "  [5.7 3.  4.2 1.2]\n",
      "  [5.7 2.9 4.2 1.3]\n",
      "  [6.2 2.9 4.3 1.3]\n",
      "  [5.1 2.5 3.  1.1]\n",
      "  [5.7 2.8 4.1 1.3]\n",
      "  [6.3 3.3 6.  2.5]\n",
      "  [5.8 2.7 5.1 1.9]\n",
      "  [7.1 3.  5.9 2.1]\n",
      "  [6.3 2.9 5.6 1.8]\n",
      "  [6.5 3.  5.8 2.2]\n",
      "  [7.6 3.  6.6 2.1]\n",
      "  [4.9 2.5 4.5 1.7]\n",
      "  [7.3 2.9 6.3 1.8]\n",
      "  [6.7 2.5 5.8 1.8]\n",
      "  [7.2 3.6 6.1 2.5]\n",
      "  [6.5 3.2 5.1 2. ]\n",
      "  [6.4 2.7 5.3 1.9]\n",
      "  [6.8 3.  5.5 2.1]\n",
      "  [5.7 2.5 5.  2. ]\n",
      "  [5.8 2.8 5.1 2.4]\n",
      "  [6.4 3.2 5.3 2.3]\n",
      "  [6.5 3.  5.5 1.8]\n",
      "  [7.7 3.8 6.7 2.2]\n",
      "  [7.7 2.6 6.9 2.3]\n",
      "  [6.  2.2 5.  1.5]]\n",
      "\n",
      " [[6.9 3.2 5.7 2.3]\n",
      "  [5.6 2.8 4.9 2. ]\n",
      "  [7.7 2.8 6.7 2. ]\n",
      "  [6.3 2.7 4.9 1.8]\n",
      "  [6.7 3.3 5.7 2.1]\n",
      "  [7.2 3.2 6.  1.8]\n",
      "  [6.2 2.8 4.8 1.8]\n",
      "  [6.1 3.  4.9 1.8]\n",
      "  [6.4 2.8 5.6 2.1]\n",
      "  [7.2 3.  5.8 1.6]\n",
      "  [7.4 2.8 6.1 1.9]\n",
      "  [7.9 3.8 6.4 2. ]\n",
      "  [6.4 2.8 5.6 2.2]\n",
      "  [6.3 2.8 5.1 1.5]\n",
      "  [6.1 2.6 5.6 1.4]\n",
      "  [7.7 3.  6.1 2.3]\n",
      "  [6.3 3.4 5.6 2.4]\n",
      "  [6.4 3.1 5.5 1.8]\n",
      "  [6.  3.  4.8 1.8]\n",
      "  [6.9 3.1 5.4 2.1]\n",
      "  [6.7 3.1 5.6 2.4]\n",
      "  [6.9 3.1 5.1 2.3]\n",
      "  [5.8 2.7 5.1 1.9]\n",
      "  [6.8 3.2 5.9 2.3]\n",
      "  [6.7 3.3 5.7 2.5]\n",
      "  [6.7 3.  5.2 2.3]\n",
      "  [6.3 2.5 5.  1.9]\n",
      "  [6.5 3.  5.2 2. ]\n",
      "  [6.2 3.4 5.4 2.3]\n",
      "  [5.9 3.  5.1 1.8]]]\n"
     ]
    }
   ],
   "source": [
    "print(\"Current array shape: \", features_shape)\n",
    "batched_data= features.reshape(5,30,4)\n",
    "print(\"Shape of array after reshaping: \", batched_data)"
   ]
  },
  {
   "cell_type": "markdown",
   "id": "6b9e28ac",
   "metadata": {},
   "source": [
    "### 2. Stack two feature columns horizontally. "
   ]
  },
  {
   "cell_type": "code",
   "execution_count": 85,
   "id": "8fec91f9",
   "metadata": {},
   "outputs": [
    {
     "data": {
      "text/plain": [
       "array([[5.1, 1.4],\n",
       "       [4.9, 1.4],\n",
       "       [4.7, 1.3],\n",
       "       [4.6, 1.5],\n",
       "       [5. , 1.4],\n",
       "       [5.4, 1.7],\n",
       "       [4.6, 1.4],\n",
       "       [5. , 1.5],\n",
       "       [4.4, 1.4],\n",
       "       [4.9, 1.5],\n",
       "       [5.4, 1.5],\n",
       "       [4.8, 1.6],\n",
       "       [4.8, 1.4],\n",
       "       [4.3, 1.1],\n",
       "       [5.8, 1.2],\n",
       "       [5.7, 1.5],\n",
       "       [5.4, 1.3],\n",
       "       [5.1, 1.4],\n",
       "       [5.7, 1.7],\n",
       "       [5.1, 1.5],\n",
       "       [5.4, 1.7],\n",
       "       [5.1, 1.5],\n",
       "       [4.6, 1. ],\n",
       "       [5.1, 1.7],\n",
       "       [4.8, 1.9],\n",
       "       [5. , 1.6],\n",
       "       [5. , 1.6],\n",
       "       [5.2, 1.5],\n",
       "       [5.2, 1.4],\n",
       "       [4.7, 1.6],\n",
       "       [4.8, 1.6],\n",
       "       [5.4, 1.5],\n",
       "       [5.2, 1.5],\n",
       "       [5.5, 1.4],\n",
       "       [4.9, 1.5],\n",
       "       [5. , 1.2],\n",
       "       [5.5, 1.3],\n",
       "       [4.9, 1.5],\n",
       "       [4.4, 1.3],\n",
       "       [5.1, 1.5],\n",
       "       [5. , 1.3],\n",
       "       [4.5, 1.3],\n",
       "       [4.4, 1.3],\n",
       "       [5. , 1.6],\n",
       "       [5.1, 1.9],\n",
       "       [4.8, 1.4],\n",
       "       [5.1, 1.6],\n",
       "       [4.6, 1.4],\n",
       "       [5.3, 1.5],\n",
       "       [5. , 1.4],\n",
       "       [7. , 4.7],\n",
       "       [6.4, 4.5],\n",
       "       [6.9, 4.9],\n",
       "       [5.5, 4. ],\n",
       "       [6.5, 4.6],\n",
       "       [5.7, 4.5],\n",
       "       [6.3, 4.7],\n",
       "       [4.9, 3.3],\n",
       "       [6.6, 4.6],\n",
       "       [5.2, 3.9],\n",
       "       [5. , 3.5],\n",
       "       [5.9, 4.2],\n",
       "       [6. , 4. ],\n",
       "       [6.1, 4.7],\n",
       "       [5.6, 3.6],\n",
       "       [6.7, 4.4],\n",
       "       [5.6, 4.5],\n",
       "       [5.8, 4.1],\n",
       "       [6.2, 4.5],\n",
       "       [5.6, 3.9],\n",
       "       [5.9, 4.8],\n",
       "       [6.1, 4. ],\n",
       "       [6.3, 4.9],\n",
       "       [6.1, 4.7],\n",
       "       [6.4, 4.3],\n",
       "       [6.6, 4.4],\n",
       "       [6.8, 4.8],\n",
       "       [6.7, 5. ],\n",
       "       [6. , 4.5],\n",
       "       [5.7, 3.5],\n",
       "       [5.5, 3.8],\n",
       "       [5.5, 3.7],\n",
       "       [5.8, 3.9],\n",
       "       [6. , 5.1],\n",
       "       [5.4, 4.5],\n",
       "       [6. , 4.5],\n",
       "       [6.7, 4.7],\n",
       "       [6.3, 4.4],\n",
       "       [5.6, 4.1],\n",
       "       [5.5, 4. ],\n",
       "       [5.5, 4.4],\n",
       "       [6.1, 4.6],\n",
       "       [5.8, 4. ],\n",
       "       [5. , 3.3],\n",
       "       [5.6, 4.2],\n",
       "       [5.7, 4.2],\n",
       "       [5.7, 4.2],\n",
       "       [6.2, 4.3],\n",
       "       [5.1, 3. ],\n",
       "       [5.7, 4.1],\n",
       "       [6.3, 6. ],\n",
       "       [5.8, 5.1],\n",
       "       [7.1, 5.9],\n",
       "       [6.3, 5.6],\n",
       "       [6.5, 5.8],\n",
       "       [7.6, 6.6],\n",
       "       [4.9, 4.5],\n",
       "       [7.3, 6.3],\n",
       "       [6.7, 5.8],\n",
       "       [7.2, 6.1],\n",
       "       [6.5, 5.1],\n",
       "       [6.4, 5.3],\n",
       "       [6.8, 5.5],\n",
       "       [5.7, 5. ],\n",
       "       [5.8, 5.1],\n",
       "       [6.4, 5.3],\n",
       "       [6.5, 5.5],\n",
       "       [7.7, 6.7],\n",
       "       [7.7, 6.9],\n",
       "       [6. , 5. ],\n",
       "       [6.9, 5.7],\n",
       "       [5.6, 4.9],\n",
       "       [7.7, 6.7],\n",
       "       [6.3, 4.9],\n",
       "       [6.7, 5.7],\n",
       "       [7.2, 6. ],\n",
       "       [6.2, 4.8],\n",
       "       [6.1, 4.9],\n",
       "       [6.4, 5.6],\n",
       "       [7.2, 5.8],\n",
       "       [7.4, 6.1],\n",
       "       [7.9, 6.4],\n",
       "       [6.4, 5.6],\n",
       "       [6.3, 5.1],\n",
       "       [6.1, 5.6],\n",
       "       [7.7, 6.1],\n",
       "       [6.3, 5.6],\n",
       "       [6.4, 5.5],\n",
       "       [6. , 4.8],\n",
       "       [6.9, 5.4],\n",
       "       [6.7, 5.6],\n",
       "       [6.9, 5.1],\n",
       "       [5.8, 5.1],\n",
       "       [6.8, 5.9],\n",
       "       [6.7, 5.7],\n",
       "       [6.7, 5.2],\n",
       "       [6.3, 5. ],\n",
       "       [6.5, 5.2],\n",
       "       [6.2, 5.4],\n",
       "       [5.9, 5.1]])"
      ]
     },
     "execution_count": 85,
     "metadata": {},
     "output_type": "execute_result"
    }
   ],
   "source": [
    "stacked = np.column_stack((sepal_length,petal_length))\n",
    "stacked"
   ]
  },
  {
   "cell_type": "markdown",
   "id": "62ab7acb",
   "metadata": {},
   "source": [
    "### 3. Create a boolean mask to filter rows with Petal Width < 0.5. "
   ]
  },
  {
   "cell_type": "code",
   "execution_count": 86,
   "id": "aa3600d1",
   "metadata": {},
   "outputs": [
    {
     "data": {
      "text/plain": [
       "array([False, False, False, False, False, False, False, False, False,\n",
       "       False, False, False, False, False, False, False, False, False,\n",
       "       False, False, False, False, False, False, False, False, False,\n",
       "       False, False, False, False, False, False, False, False, False,\n",
       "       False, False, False, False, False, False, False,  True, False,\n",
       "       False, False, False, False, False,  True,  True,  True,  True,\n",
       "        True,  True,  True,  True,  True,  True,  True,  True,  True,\n",
       "        True,  True,  True,  True,  True,  True,  True,  True,  True,\n",
       "        True,  True,  True,  True,  True,  True,  True,  True,  True,\n",
       "        True,  True,  True,  True,  True,  True,  True,  True,  True,\n",
       "        True,  True,  True,  True,  True,  True,  True,  True,  True,\n",
       "        True,  True,  True,  True,  True,  True,  True,  True,  True,\n",
       "        True,  True,  True,  True,  True,  True,  True,  True,  True,\n",
       "        True,  True,  True,  True,  True,  True,  True,  True,  True,\n",
       "        True,  True,  True,  True,  True,  True,  True,  True,  True,\n",
       "        True,  True,  True,  True,  True,  True,  True,  True,  True,\n",
       "        True,  True,  True,  True,  True,  True])"
      ]
     },
     "execution_count": 86,
     "metadata": {},
     "output_type": "execute_result"
    }
   ],
   "source": [
    "thick_petal_flower = petal_width > 0.5\n",
    "thick_petal_flower"
   ]
  }
 ],
 "metadata": {
  "kernelspec": {
   "display_name": "base",
   "language": "python",
   "name": "python3"
  },
  "language_info": {
   "codemirror_mode": {
    "name": "ipython",
    "version": 3
   },
   "file_extension": ".py",
   "mimetype": "text/x-python",
   "name": "python",
   "nbconvert_exporter": "python",
   "pygments_lexer": "ipython3",
   "version": "3.12.7"
  }
 },
 "nbformat": 4,
 "nbformat_minor": 5
}

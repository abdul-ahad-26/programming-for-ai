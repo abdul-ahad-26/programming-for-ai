{
  "cells": [
    {
      "cell_type": "markdown",
      "metadata": {
        "id": "1v2C_NWkkykc"
      },
      "source": []
    },
    {
      "cell_type": "markdown",
      "metadata": {
        "id": "ZsUQqy6_kyke"
      },
      "source": [
        "##  One-sample T-test with Python\n",
        "\n",
        "The test will tell us whether means of the sample and the population are different"
      ]
    },
    {
      "cell_type": "code",
      "execution_count": null,
      "metadata": {
        "id": "OAy-2NlQkykh"
      },
      "outputs": [],
      "source": [
        "import scipy.stats as stats"
      ]
    },
    {
      "cell_type": "code",
      "execution_count": null,
      "metadata": {
        "id": "FVHANd0pkykk"
      },
      "outputs": [],
      "source": [
        "ages=[10,20,35,50,28,40,55,18,16,55,30,25,43,18,30,28,14,24,16,17,32,35,26,27,65,18,43,23,21,20,19,70]"
      ]
    },
    {
      "cell_type": "code",
      "execution_count": null,
      "metadata": {
        "colab": {
          "base_uri": "https://localhost:8080/"
        },
        "id": "S2YmXfgikykl",
        "outputId": "85f5b011-2513-42f6-9ff1-68758468da30"
      },
      "outputs": [
        {
          "output_type": "execute_result",
          "data": {
            "text/plain": [
              "32"
            ]
          },
          "metadata": {},
          "execution_count": 3
        }
      ],
      "source": [
        "len(ages)"
      ]
    },
    {
      "cell_type": "code",
      "execution_count": null,
      "metadata": {
        "colab": {
          "base_uri": "https://localhost:8080/"
        },
        "id": "CPbcer9Akykp",
        "outputId": "0b89cfbe-fa83-4c04-e3c5-8ea0736b3b60"
      },
      "outputs": [
        {
          "output_type": "stream",
          "name": "stdout",
          "text": [
            "30.34375\n"
          ]
        }
      ],
      "source": [
        "import numpy as np\n",
        "ages_mean=np.mean(ages)\n",
        "print(ages_mean)"
      ]
    },
    {
      "cell_type": "code",
      "execution_count": null,
      "metadata": {
        "id": "AMXYDRBskykq"
      },
      "outputs": [],
      "source": [
        "## Lets take sample\n",
        "\n",
        "sample_size=10\n",
        "age_sample=np.random.choice(ages,sample_size)"
      ]
    },
    {
      "cell_type": "code",
      "execution_count": null,
      "metadata": {
        "colab": {
          "base_uri": "https://localhost:8080/"
        },
        "id": "jfWSpOOykykr",
        "outputId": "2afd18c9-8b7a-4e89-f45c-2797ad173a85"
      },
      "outputs": [
        {
          "output_type": "execute_result",
          "data": {
            "text/plain": [
              "array([65, 23, 28, 65, 16, 23, 16, 14, 70, 10])"
            ]
          },
          "metadata": {},
          "execution_count": 6
        }
      ],
      "source": [
        "age_sample"
      ]
    },
    {
      "cell_type": "code",
      "execution_count": null,
      "metadata": {
        "id": "FDBgkdm6kyks"
      },
      "outputs": [],
      "source": [
        "ttest,p_value = stats.ttest_1samp(age_sample,30)"
      ]
    },
    {
      "cell_type": "code",
      "execution_count": null,
      "metadata": {
        "colab": {
          "base_uri": "https://localhost:8080/"
        },
        "id": "y8SpY4eekyku",
        "outputId": "9cfd2723-bcb5-449a-e998-9e06ff018b35"
      },
      "outputs": [
        {
          "output_type": "stream",
          "name": "stdout",
          "text": [
            "0.6998088233018644\n"
          ]
        }
      ],
      "source": [
        "print(p_value)"
      ]
    },
    {
      "cell_type": "code",
      "execution_count": null,
      "metadata": {
        "colab": {
          "base_uri": "https://localhost:8080/"
        },
        "id": "zdH5udAZkykv",
        "outputId": "5c5a3804-7f92-406e-8944-037cedb39cd3"
      },
      "outputs": [
        {
          "output_type": "stream",
          "name": "stdout",
          "text": [
            "we are accepting null hypothesis\n"
          ]
        }
      ],
      "source": [
        "if p_value < 0.05:    # alpha value is 0.05 or 5%\n",
        "    print(\" we are rejecting null hypothesis\")\n",
        "else:\n",
        "    print(\"we are accepting null hypothesis\")"
      ]
    },
    {
      "cell_type": "code",
      "source": [
        "print(ttest)"
      ],
      "metadata": {
        "colab": {
          "base_uri": "https://localhost:8080/"
        },
        "id": "JpYLlBxulOer",
        "outputId": "82ef1c64-3031-4533-93e9-78f87692da3c"
      },
      "execution_count": null,
      "outputs": [
        {
          "output_type": "stream",
          "name": "stdout",
          "text": [
            "0.39813655968342787\n"
          ]
        }
      ]
    },
    {
      "cell_type": "code",
      "execution_count": null,
      "metadata": {
        "colab": {
          "base_uri": "https://localhost:8080/"
        },
        "id": "EQCmMcTjkykw",
        "outputId": "b4fc13dd-f77f-44ef-91a6-7c284911d5ec"
      },
      "outputs": [
        {
          "output_type": "execute_result",
          "data": {
            "text/plain": [
              "np.float64(-2.2621571628540997)"
            ]
          },
          "metadata": {},
          "execution_count": 10
        }
      ],
      "source": [
        "stats.t.ppf(q=0.025,  # Quantile to check\n",
        "            df=9)  # Degrees of freedom"
      ]
    },
    {
      "cell_type": "code",
      "execution_count": null,
      "metadata": {
        "colab": {
          "base_uri": "https://localhost:8080/"
        },
        "id": "NoLtaw1okykx",
        "outputId": "3f897cf0-144c-4fe6-cd57-df2dd1354c90"
      },
      "outputs": [
        {
          "output_type": "execute_result",
          "data": {
            "text/plain": [
              "np.float64(2.2621571628540993)"
            ]
          },
          "metadata": {},
          "execution_count": 11
        }
      ],
      "source": [
        "stats.t.ppf(q=0.975,  # Quantile to check\n",
        "            df=9)  # Degrees of freedom"
      ]
    },
    {
      "cell_type": "markdown",
      "metadata": {
        "id": "IruWGR2xkyky"
      },
      "source": [
        "## One More Example\n",
        "Consider the age of students in a college and in Class A"
      ]
    },
    {
      "cell_type": "code",
      "execution_count": null,
      "metadata": {
        "id": "17pcF-qskykz"
      },
      "outputs": [],
      "source": [
        "import numpy as np\n",
        "import pandas as pd\n",
        "import scipy.stats as stats\n",
        "import math\n",
        "np.random.seed(6)\n",
        "school_ages=stats.poisson.rvs(loc=18,mu=35,size=1500)\n",
        "classA_ages=stats.poisson.rvs(loc=18,mu=30,size=60)\n"
      ]
    },
    {
      "cell_type": "code",
      "source": [
        "school_ages.mean()"
      ],
      "metadata": {
        "id": "_g_OWV391-Pv",
        "outputId": "4906f7a6-1138-45e2-fe29-078713a51159",
        "colab": {
          "base_uri": "https://localhost:8080/"
        }
      },
      "execution_count": null,
      "outputs": [
        {
          "output_type": "execute_result",
          "data": {
            "text/plain": [
              "np.float64(53.303333333333335)"
            ]
          },
          "metadata": {},
          "execution_count": 2
        }
      ]
    },
    {
      "cell_type": "code",
      "execution_count": null,
      "metadata": {
        "colab": {
          "base_uri": "https://localhost:8080/"
        },
        "id": "l0vj9JgRkykz",
        "outputId": "49410a18-a348-4f8a-a092-78412cb76c77"
      },
      "outputs": [
        {
          "output_type": "execute_result",
          "data": {
            "text/plain": [
              "np.float64(46.9)"
            ]
          },
          "metadata": {},
          "execution_count": 14
        }
      ],
      "source": [
        "classA_ages.mean()"
      ]
    },
    {
      "cell_type": "code",
      "execution_count": null,
      "metadata": {
        "id": "ofEw5OgIkyk1"
      },
      "outputs": [],
      "source": [
        "t_test,p_value=stats.ttest_1samp(a=classA_ages,popmean=school_ages.mean())"
      ]
    },
    {
      "cell_type": "code",
      "execution_count": null,
      "metadata": {
        "colab": {
          "base_uri": "https://localhost:8080/"
        },
        "id": "oLl4WUbUkyk2",
        "outputId": "ed92115b-8bbc-4d8c-c342-bf08304a496f"
      },
      "outputs": [
        {
          "output_type": "execute_result",
          "data": {
            "text/plain": [
              "np.float64(1.139027071016194e-13)"
            ]
          },
          "metadata": {},
          "execution_count": 16
        }
      ],
      "source": [
        "p_value"
      ]
    },
    {
      "cell_type": "code",
      "execution_count": null,
      "metadata": {
        "colab": {
          "base_uri": "https://localhost:8080/"
        },
        "id": "HcPeztm8kyk3",
        "outputId": "c5b17503-11b9-468b-f786-c4af1fe98a02"
      },
      "outputs": [
        {
          "output_type": "execute_result",
          "data": {
            "text/plain": [
              "np.float64(53.303333333333335)"
            ]
          },
          "metadata": {},
          "execution_count": 17
        }
      ],
      "source": [
        "school_ages.mean()"
      ]
    },
    {
      "cell_type": "code",
      "execution_count": null,
      "metadata": {
        "colab": {
          "base_uri": "https://localhost:8080/"
        },
        "id": "1Ou0bQZgkyk3",
        "outputId": "9b9cea10-7e3a-432f-d9ef-9c313fad7419"
      },
      "outputs": [
        {
          "output_type": "stream",
          "name": "stdout",
          "text": [
            " we are rejecting null hypothesis\n"
          ]
        }
      ],
      "source": [
        "if p_value < 0.05:    # alpha value is 0.05 or 5%\n",
        "    print(\" we are rejecting null hypothesis\")\n",
        "else:\n",
        "    print(\"we are accepting null hypothesis\")"
      ]
    },
    {
      "cell_type": "code",
      "source": [
        "print(t_test)"
      ],
      "metadata": {
        "colab": {
          "base_uri": "https://localhost:8080/"
        },
        "id": "ELjQTd2mlhn6",
        "outputId": "5003de42-219e-4d08-821f-4653920998ac"
      },
      "execution_count": null,
      "outputs": [
        {
          "output_type": "stream",
          "name": "stdout",
          "text": [
            "-9.604796510704091\n"
          ]
        }
      ]
    },
    {
      "cell_type": "code",
      "source": [
        "stats.t.ppf(q=0.025,  # Quantile to check\n",
        "            df=59)  # Degrees of freedom"
      ],
      "metadata": {
        "colab": {
          "base_uri": "https://localhost:8080/"
        },
        "id": "YFnJP7PglrSA",
        "outputId": "4104ab02-4b4a-4547-e2f6-1ad59dcd9b74"
      },
      "execution_count": null,
      "outputs": [
        {
          "output_type": "execute_result",
          "data": {
            "text/plain": [
              "np.float64(-2.000995378088268)"
            ]
          },
          "metadata": {},
          "execution_count": 20
        }
      ]
    },
    {
      "cell_type": "code",
      "source": [
        "stats.t.ppf(q=0.975,  # Quantile to check\n",
        "            df=59)  # Degrees of freedom"
      ],
      "metadata": {
        "colab": {
          "base_uri": "https://localhost:8080/"
        },
        "id": "sT4UJQxslvPH",
        "outputId": "0c501565-3493-470c-d145-783f4f767e67"
      },
      "execution_count": null,
      "outputs": [
        {
          "output_type": "execute_result",
          "data": {
            "text/plain": [
              "np.float64(2.0009953780882674)"
            ]
          },
          "metadata": {},
          "execution_count": 21
        }
      ]
    },
    {
      "cell_type": "code",
      "source": [],
      "metadata": {
        "id": "4PIDg2TSl1h_"
      },
      "execution_count": null,
      "outputs": []
    }
  ],
  "metadata": {
    "kernelspec": {
      "display_name": "Python 3",
      "language": "python",
      "name": "python3"
    },
    "colab": {
      "provenance": []
    }
  },
  "nbformat": 4,
  "nbformat_minor": 0
}
{
 "cells": [
  {
   "cell_type": "markdown",
   "id": "0d96f420",
   "metadata": {},
   "source": [
    "Q1: Outlier Detection (1 Mark)\n",
    "- Identify and remove outliers in the 'BloodPressure' column using any method of choice.\n",
    "- Provide a boxplot before and after removing outliers."
   ]
  },
  {
   "cell_type": "code",
   "execution_count": 23,
   "id": "fc6c2af3",
   "metadata": {},
   "outputs": [
    {
     "data": {
      "application/vnd.microsoft.datawrangler.viewer.v0+json": {
       "columns": [
        {
         "name": "index",
         "rawType": "int64",
         "type": "integer"
        },
        {
         "name": "PatientID",
         "rawType": "int64",
         "type": "integer"
        },
        {
         "name": "Gender",
         "rawType": "object",
         "type": "string"
        },
        {
         "name": "Age",
         "rawType": "int64",
         "type": "integer"
        },
        {
         "name": "CholesterolLevel",
         "rawType": "float64",
         "type": "float"
        },
        {
         "name": "BloodPressure",
         "rawType": "float64",
         "type": "float"
        },
        {
         "name": "Region",
         "rawType": "object",
         "type": "string"
        },
        {
         "name": "RiskCategory",
         "rawType": "object",
         "type": "string"
        }
       ],
       "ref": "e6d39666-1a9c-4286-a2e0-d9665df41a9f",
       "rows": [
        [
         "0",
         "1",
         "Male",
         "37",
         "193.4",
         "129.4",
         "East",
         "High"
        ],
        [
         "1",
         "2",
         "Female",
         "45",
         "210.7",
         "107.1",
         "West",
         "Low"
        ],
        [
         "2",
         "3",
         "Male",
         "63",
         "244.3",
         "103.9",
         "West",
         "Low"
        ],
        [
         "3",
         "4",
         "Male",
         "53",
         "184.5",
         "127.2",
         "West",
         "High"
        ],
        [
         "4",
         "5",
         "Male",
         "29",
         "175.7",
         "116.6",
         "South",
         "High"
        ]
       ],
       "shape": {
        "columns": 7,
        "rows": 5
       }
      },
      "text/html": [
       "<div>\n",
       "<style scoped>\n",
       "    .dataframe tbody tr th:only-of-type {\n",
       "        vertical-align: middle;\n",
       "    }\n",
       "\n",
       "    .dataframe tbody tr th {\n",
       "        vertical-align: top;\n",
       "    }\n",
       "\n",
       "    .dataframe thead th {\n",
       "        text-align: right;\n",
       "    }\n",
       "</style>\n",
       "<table border=\"1\" class=\"dataframe\">\n",
       "  <thead>\n",
       "    <tr style=\"text-align: right;\">\n",
       "      <th></th>\n",
       "      <th>PatientID</th>\n",
       "      <th>Gender</th>\n",
       "      <th>Age</th>\n",
       "      <th>CholesterolLevel</th>\n",
       "      <th>BloodPressure</th>\n",
       "      <th>Region</th>\n",
       "      <th>RiskCategory</th>\n",
       "    </tr>\n",
       "  </thead>\n",
       "  <tbody>\n",
       "    <tr>\n",
       "      <th>0</th>\n",
       "      <td>1</td>\n",
       "      <td>Male</td>\n",
       "      <td>37</td>\n",
       "      <td>193.4</td>\n",
       "      <td>129.4</td>\n",
       "      <td>East</td>\n",
       "      <td>High</td>\n",
       "    </tr>\n",
       "    <tr>\n",
       "      <th>1</th>\n",
       "      <td>2</td>\n",
       "      <td>Female</td>\n",
       "      <td>45</td>\n",
       "      <td>210.7</td>\n",
       "      <td>107.1</td>\n",
       "      <td>West</td>\n",
       "      <td>Low</td>\n",
       "    </tr>\n",
       "    <tr>\n",
       "      <th>2</th>\n",
       "      <td>3</td>\n",
       "      <td>Male</td>\n",
       "      <td>63</td>\n",
       "      <td>244.3</td>\n",
       "      <td>103.9</td>\n",
       "      <td>West</td>\n",
       "      <td>Low</td>\n",
       "    </tr>\n",
       "    <tr>\n",
       "      <th>3</th>\n",
       "      <td>4</td>\n",
       "      <td>Male</td>\n",
       "      <td>53</td>\n",
       "      <td>184.5</td>\n",
       "      <td>127.2</td>\n",
       "      <td>West</td>\n",
       "      <td>High</td>\n",
       "    </tr>\n",
       "    <tr>\n",
       "      <th>4</th>\n",
       "      <td>5</td>\n",
       "      <td>Male</td>\n",
       "      <td>29</td>\n",
       "      <td>175.7</td>\n",
       "      <td>116.6</td>\n",
       "      <td>South</td>\n",
       "      <td>High</td>\n",
       "    </tr>\n",
       "  </tbody>\n",
       "</table>\n",
       "</div>"
      ],
      "text/plain": [
       "   PatientID  Gender  Age  CholesterolLevel  BloodPressure Region RiskCategory\n",
       "0          1    Male   37             193.4          129.4   East         High\n",
       "1          2  Female   45             210.7          107.1   West          Low\n",
       "2          3    Male   63             244.3          103.9   West          Low\n",
       "3          4    Male   53             184.5          127.2   West         High\n",
       "4          5    Male   29             175.7          116.6  South         High"
      ]
     },
     "execution_count": 23,
     "metadata": {},
     "output_type": "execute_result"
    }
   ],
   "source": [
    "import pandas as pd\n",
    "import matplotlib.pyplot as plt\n",
    "import seaborn as sns\n",
    "import numpy as np\n",
    "import scipy as stats\n",
    "\n",
    "df = pd.read_csv(\"patient_data.csv\")\n",
    "df.head()"
   ]
  },
  {
   "cell_type": "code",
   "execution_count": 24,
   "id": "2f234b5d",
   "metadata": {},
   "outputs": [
    {
     "name": "stdout",
     "output_type": "stream",
     "text": [
      "<class 'pandas.core.frame.DataFrame'>\n",
      "RangeIndex: 100 entries, 0 to 99\n",
      "Data columns (total 7 columns):\n",
      " #   Column            Non-Null Count  Dtype  \n",
      "---  ------            --------------  -----  \n",
      " 0   PatientID         100 non-null    int64  \n",
      " 1   Gender            100 non-null    object \n",
      " 2   Age               100 non-null    int64  \n",
      " 3   CholesterolLevel  100 non-null    float64\n",
      " 4   BloodPressure     100 non-null    float64\n",
      " 5   Region            100 non-null    object \n",
      " 6   RiskCategory      100 non-null    object \n",
      "dtypes: float64(2), int64(2), object(3)\n",
      "memory usage: 5.6+ KB\n"
     ]
    }
   ],
   "source": [
    "df.info()"
   ]
  },
  {
   "cell_type": "code",
   "execution_count": 25,
   "id": "03d1c35e",
   "metadata": {},
   "outputs": [
    {
     "data": {
      "image/png": "[encoded data removed]",
      "text/plain": [
       "<Figure size 600x400 with 1 Axes>"
      ]
     },
     "metadata": {},
     "output_type": "display_data"
    }
   ],
   "source": [
    "plt.figure(figsize=(6, 4))\n",
    "sns.boxplot(data=df[\"BloodPressure\"])\n",
    "plt.title(\"Before Removing outlier\")\n",
    "plt.show()"
   ]
  },
  {
   "cell_type": "code",
   "execution_count": 26,
   "id": "60747d27",
   "metadata": {},
   "outputs": [
    {
     "data": {
      "image/png": "[encoded data removed]",
      "text/plain": [
       "<Figure size 600x400 with 1 Axes>"
      ]
     },
     "metadata": {},
     "output_type": "display_data"
    }
   ],
   "source": [
    "# Removing outliers with IQR method\n",
    "df.sort_values(by=\"BloodPressure\", inplace=True)\n",
    "Q1, Q3 = df[\"BloodPressure\"].quantile([0.25, 0.75])\n",
    "\n",
    "\n",
    "IQR = Q3 - Q1\n",
    "lower_bound = Q1 - (1.5 * IQR)\n",
    "upper_bound = Q3 + (1.5 * IQR)\n",
    "\n",
    "clean_df = df[\n",
    "    (df[\"BloodPressure\"] >= lower_bound) & (df[\"BloodPressure\"] <= upper_bound)\n",
    "]\n",
    "\n",
    "\n",
    "plt.figure(figsize=(6, 4))\n",
    "sns.boxplot(data=clean_df[\"BloodPressure\"])\n",
    "plt.title(\"After Removing outlier\")\n",
    "plt.show()"
   ]
  },
  {
   "cell_type": "markdown",
   "id": "c98f7956",
   "metadata": {},
   "source": [
    "Q2: Hypothesis Testing (2 Marks)\n",
    "Perform the following:\n",
    " - Is the mean 'CholesterolLevel' significantly different from 195 mg/dL having a sample\n",
    "size of 20?\n",
    " - Is there a relationship between 'Gender' and 'RiskCategory'?\n",
    "For both tests, include:\n",
    "- Null and alternative hypotheses\n",
    "- Test statistics and p-values\n",
    "- Your interpretation (reject/fail to reject H₀)"
   ]
  },
  {
   "cell_type": "code",
   "execution_count": 27,
   "id": "b86c29f2",
   "metadata": {},
   "outputs": [
    {
     "ename": "AttributeError",
     "evalue": "Module 'scipy' has no attribute 'ttest_1samp'",
     "output_type": "error",
     "traceback": [
      "\u001b[1;31m---------------------------------------------------------------------------\u001b[0m",
      "\u001b[1;31mKeyError\u001b[0m                                  Traceback (most recent call last)",
      "File \u001b[1;32mc:\\Users\\Abdul Ahad\\AppData\\Local\\Programs\\Python\\Python313\\Lib\\site-packages\\scipy\\__init__.py:149\u001b[0m, in \u001b[0;36m__getattr__\u001b[1;34m(name)\u001b[0m\n\u001b[0;32m    148\u001b[0m \u001b[38;5;28;01mtry\u001b[39;00m:\n\u001b[1;32m--> 149\u001b[0m     \u001b[38;5;28;01mreturn\u001b[39;00m \u001b[38;5;28;43mglobals\u001b[39;49m\u001b[43m(\u001b[49m\u001b[43m)\u001b[49m\u001b[43m[\u001b[49m\u001b[43mname\u001b[49m\u001b[43m]\u001b[49m\n\u001b[0;32m    150\u001b[0m \u001b[38;5;28;01mexcept\u001b[39;00m \u001b[38;5;167;01mKeyError\u001b[39;00m:\n",
      "\u001b[1;31mKeyError\u001b[0m: 'ttest_1samp'",
      "\nDuring handling of the above exception, another exception occurred:\n",
      "\u001b[1;31mAttributeError\u001b[0m                            Traceback (most recent call last)",
      "Cell \u001b[1;32mIn[27], line 24\u001b[0m\n\u001b[0;32m     20\u001b[0m cholesterol_df \u001b[38;5;241m=\u001b[39m df[[\u001b[38;5;124m'\u001b[39m\u001b[38;5;124mCholesterolLevel\u001b[39m\u001b[38;5;124m'\u001b[39m]]\u001b[38;5;241m.\u001b[39mcopy()\n\u001b[0;32m     22\u001b[0m sample \u001b[38;5;241m=\u001b[39m cholesterol_df\u001b[38;5;241m.\u001b[39miloc[\u001b[38;5;241m0\u001b[39m:sample_size]\u001b[38;5;241m.\u001b[39mcopy()\n\u001b[1;32m---> 24\u001b[0m t_stat, p_value \u001b[38;5;241m=\u001b[39m \u001b[43mstats\u001b[49m\u001b[38;5;241;43m.\u001b[39;49m\u001b[43mttest_1samp\u001b[49m(sample, popmean\u001b[38;5;241m=\u001b[39mpopulation_mean)\n\u001b[0;32m     26\u001b[0m \u001b[38;5;66;03m# With p value\u001b[39;00m\n\u001b[0;32m     27\u001b[0m \u001b[38;5;28;01mif\u001b[39;00m p_value \u001b[38;5;241m<\u001b[39m alpha:\n",
      "File \u001b[1;32mc:\\Users\\Abdul Ahad\\AppData\\Local\\Programs\\Python\\Python313\\Lib\\site-packages\\scipy\\__init__.py:151\u001b[0m, in \u001b[0;36m__getattr__\u001b[1;34m(name)\u001b[0m\n\u001b[0;32m    149\u001b[0m     \u001b[38;5;28;01mreturn\u001b[39;00m \u001b[38;5;28mglobals\u001b[39m()[name]\n\u001b[0;32m    150\u001b[0m \u001b[38;5;28;01mexcept\u001b[39;00m \u001b[38;5;167;01mKeyError\u001b[39;00m:\n\u001b[1;32m--> 151\u001b[0m     \u001b[38;5;28;01mraise\u001b[39;00m \u001b[38;5;167;01mAttributeError\u001b[39;00m(\n\u001b[0;32m    152\u001b[0m         \u001b[38;5;124mf\u001b[39m\u001b[38;5;124m\"\u001b[39m\u001b[38;5;124mModule \u001b[39m\u001b[38;5;124m'\u001b[39m\u001b[38;5;124mscipy\u001b[39m\u001b[38;5;124m'\u001b[39m\u001b[38;5;124m has no attribute \u001b[39m\u001b[38;5;124m'\u001b[39m\u001b[38;5;132;01m{\u001b[39;00mname\u001b[38;5;132;01m}\u001b[39;00m\u001b[38;5;124m'\u001b[39m\u001b[38;5;124m\"\u001b[39m\n\u001b[0;32m    153\u001b[0m     )\n",
      "\u001b[1;31mAttributeError\u001b[0m: Module 'scipy' has no attribute 'ttest_1samp'"
     ]
    }
   ],
   "source": [
    "# Null hypothesis (Ho):\n",
    "\n",
    "# The sample mean = 195 mg/dL\n",
    "# Ho µ = 195 mg/dL\n",
    "\n",
    "# Alternate hypothesis (Hi);\n",
    "# The sample mean != 195 mg/dL\n",
    "# Hi µ != 195 mg/dL\n",
    "\n",
    "# This is a two tail test\n",
    "# Since the sample size is less than 30 and population mean is likely unkown, we will use a one sample t-test\n",
    "\n",
    "sample_size = 20\n",
    "population_mean = 195\n",
    "alpha = 0.05\n",
    "dof = sample_size - 1\n",
    "\n",
    "\n",
    "\n",
    "cholesterol_df = df[['CholesterolLevel']].copy()\n",
    "\n",
    "sample = cholesterol_df.iloc[0:sample_size].copy()\n",
    "\n",
    "t_stat, p_value = stats.ttest_1samp(sample, popmean=population_mean)\n",
    "\n",
    "# With p value\n",
    "if p_value < alpha:\n",
    "    print(\"We Reject the null hypothesis mean is significantly differnet from 195 mg/dL.\")\n",
    "else:\n",
    "    print(\"Mean is not significantly differnet from 195 mg/dL. (Fail to reject null hypothes H0)\")\n",
    "\n",
    "# With t_critical\n",
    "# t_critical = stats.t.ppf(1 - alpha/2, dof)\n",
    "\n",
    "# if  t_stat < -t_critical or t_stat> t_critical :\n",
    "#     print(\"We Reject the null hypothesis mean is significantly differnet from 195 mg/dL.\")\n",
    "# else:\n",
    "#     print(\"Mean is not significantly differnet from 195 mg/dL. (Fail to reject null hypothes H0)\")\n",
    "\n",
    "\n",
    "\n"
   ]
  },
  {
   "cell_type": "code",
   "execution_count": null,
   "id": "468011d8",
   "metadata": {},
   "outputs": [
    {
     "name": "stdout",
     "output_type": "stream",
     "text": [
      "\n",
      "Chi2 Statistic: 1.2770\n",
      "Chi2 Critical Value (alpha=0.05, dof=2): 5.9915\n",
      "❌ Fail to reject the null hypothesis: Gender and Risk Category are independent.\n"
     ]
    }
   ],
   "source": [
    "# Null hypothesis gender and risk category are independent\n",
    "# Altenate hypothesis gender and risk category are dependent\n",
    "\n",
    "# Significance level\n",
    "alpha = 0.05\n",
    "\n",
    "crosstab = pd.crosstab(df['Gender'],df['RiskCategory'])\n",
    "chi2_stat, p_value, dof, expected = stats.chi2_contingency(crosstab)\n",
    "\n",
    "# # With p value\n",
    "# if p_value < alpha:\n",
    "#     print(\"Reject the null hypothesis, gender and risk category are dependent\")\n",
    "# else:\n",
    "#     print(\"Gender and risk category are independent. (Fail to reject null hypothes H0)\")\n",
    "\n",
    "# Critical value from chi-square distribution\n",
    "chi2_critical = stats.chi2.ppf(1 - alpha, dof)\n",
    "\n",
    "# Output\n",
    "print(f\"\\nChi2 Statistic: {chi2_stat:.4f}\")\n",
    "print(f\"Chi2 Critical Value (alpha=0.05, dof={dof}): {chi2_critical:.4f}\")\n",
    "\n",
    "# Decision based on chi2 critical value\n",
    "if chi2_stat > chi2_critical:\n",
    "    print(\"✅ Reject the null hypothesis: Gender and Risk Category are dependent.\")\n",
    "else:\n",
    "    print(\"❌ Fail to reject the null hypothesis: Gender and Risk Category are independent.\")\n"
   ]
  },
  {
   "cell_type": "markdown",
   "id": "9054a7f4",
   "metadata": {},
   "source": [
    "Q3: Modeling with First Order ODE (2 Marks)\n",
    "Model the concentration of a drug in a patient’s bloodstream using the equation:\n",
    " dC/dt = k(D - C)\n",
    "Where:\n",
    "- k = 0.05, D = 120, and initial condition C(0) = 0\n",
    "- Simulate from t = 0 to t = 100\n",
    "- Plot the result and explain the physical meaning of the concentration curve over time."
   ]
  },
  {
   "cell_type": "code",
   "execution_count": 30,
   "id": "cc1ebfb6",
   "metadata": {},
   "outputs": [
    {
     "data": {
      "image/png": "[encoded data removed]",
      "text/plain": [
       "<Figure size 640x480 with 1 Axes>"
      ]
     },
     "metadata": {},
     "output_type": "display_data"
    }
   ],
   "source": [
    "from scipy.integrate import odeint\n",
    "K = 0.05\n",
    "D = 120\n",
    "\n",
    "def model(C, t):\n",
    "    dCdt =  K * (D-C)\n",
    "    return dCdt\n",
    "\n",
    "C0 = 0\n",
    "\n",
    "# Time points \n",
    "t = np.linspace(0, 100, 200)\n",
    "\n",
    "C = odeint(model, C0,t)\n",
    "\n",
    "plt.plot(t, C, label='Drug Concentration C(t)')\n",
    "plt.xlabel('Time (t)')\n",
    "plt.ylabel('Concentration (C)')\n",
    "plt.title('Drug Concentration in Bloodstream Over Time')\n",
    "plt.grid(True)\n",
    "plt.legend()\n",
    "plt.show()\n",
    "# The concentration curve shows how a drug builds up in the bloodstream over time. It rises quickly at first when the blood has no drug, then slows down as it approaches the maximum level (120 mg). This reflects how the body absorbs the drug fast initially, then levels off as it becomes saturated."
   ]
  }
 ],
 "metadata": {
  "kernelspec": {
   "display_name": "Python 3",
   "language": "python",
   "name": "python3"
  },
  "language_info": {
   "codemirror_mode": {
    "name": "ipython",
    "version": 3
   },
   "file_extension": ".py",
   "mimetype": "text/x-python",
   "name": "python",
   "nbconvert_exporter": "python",
   "pygments_lexer": "ipython3",
   "version": "3.13.3"
  }
 },
 "nbformat": 4,
 "nbformat_minor": 5
}
